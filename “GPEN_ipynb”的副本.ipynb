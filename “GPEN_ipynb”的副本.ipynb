{
  "nbformat": 4,
  "nbformat_minor": 0,
  "metadata": {
    "colab": {
      "name": "“GPEN.ipynb”的副本",
      "provenance": [],
      "collapsed_sections": [
        "sYMcFahLkcWS"
      ],
      "include_colab_link": true
    },
    "kernelspec": {
      "name": "python3",
      "display_name": "Python 3"
    },
    "language_info": {
      "name": "python"
    },
    "accelerator": "GPU"
  },
  "cells": [
    {
      "cell_type": "markdown",
      "metadata": {
        "id": "view-in-github",
        "colab_type": "text"
      },
      "source": [
        "<a href=\"https://colab.research.google.com/github/PiPoNoga/GPEN/blob/main/%E2%80%9CGPEN_ipynb%E2%80%9D%E7%9A%84%E5%89%AF%E6%9C%AC.ipynb\" target=\"_parent\"><img src=\"https://colab.research.google.com/assets/colab-badge.svg\" alt=\"Open In Colab\"/></a>"
      ]
    },
    {
      "cell_type": "markdown",
      "metadata": {
        "id": "sYMcFahLkcWS"
      },
      "source": [
        "# 一键挂载"
      ]
    },
    {
      "cell_type": "code",
      "metadata": {
        "id": "DTBrvud_kZPY"
      },
      "source": [
        "from google.colab import drive\n",
        "drive.mount('/content/drive', force_remount=True)\n",
        "import os\n",
        "os.chdir(\"/content/drive/My Drive\")\n",
        "!ls\n",
        "%cd GPEN"
      ],
      "execution_count": null,
      "outputs": []
    },
    {
      "cell_type": "markdown",
      "metadata": {
        "id": "7TLDy5mi1rid"
      },
      "source": [
        "# Run once only!"
      ]
    },
    {
      "cell_type": "code",
      "metadata": {
        "id": "--fxPES99Cp0"
      },
      "source": [
        "! git clone https://github.com/bycloudai/GPEN"
      ],
      "execution_count": null,
      "outputs": []
    },
    {
      "cell_type": "code",
      "metadata": {
        "id": "t8AU9f7U-vKz"
      },
      "source": [
        "!wget https://public-vigen-video.oss-cn-shanghai.aliyuncs.com/robin/models/RetinaFace-R50.pth && mv RetinaFace-R50.pth GPEN/weights/\n",
        "!wget https://public-vigen-video.oss-cn-shanghai.aliyuncs.com/robin/models/GPEN-512.pth && mv GPEN-512.pth GPEN/weights/\n",
        "!wget https://public-vigen-video.oss-cn-shanghai.aliyuncs.com/robin/models/GPEN-1024-Color.pth && mv GPEN-1024-Color.pth GPEN/weights/"
      ],
      "execution_count": null,
      "outputs": []
    },
    {
      "cell_type": "code",
      "metadata": {
        "id": "Zfc5z0CyAVKY"
      },
      "source": [
        "!pip install torch==1.7.1 torchvision==0.8.2 torchaudio==0.7.2\n",
        "!pip install pip install opencv-python"
      ],
      "execution_count": null,
      "outputs": []
    },
    {
      "cell_type": "code",
      "metadata": {
        "id": "BlSfEFXgnAHu"
      },
      "source": [
        "%cd GPEN"
      ],
      "execution_count": null,
      "outputs": []
    },
    {
      "cell_type": "code",
      "metadata": {
        "id": "dt6hIEjyx7Nt"
      },
      "source": [
        "!wget https://github.com/ninja-build/ninja/releases/download/v1.8.2/ninja-linux.zip\n",
        "!sudo unzip ninja-linux.zip -d /usr/local/bin/\n",
        "!sudo update-alternatives --install /usr/bin/ninja ninja /usr/local/bin/ninja 1 --force"
      ],
      "execution_count": null,
      "outputs": []
    },
    {
      "cell_type": "markdown",
      "metadata": {
        "id": "MHS0GTSK1hnf"
      },
      "source": [
        "# Main Code\n",
        "\n"
      ]
    },
    {
      "cell_type": "code",
      "metadata": {
        "id": "NOo9qIPb1Ivn"
      },
      "source": [
        "!python face_enhancement.py"
      ],
      "execution_count": null,
      "outputs": []
    },
    {
      "cell_type": "code",
      "metadata": {
        "colab": {
          "base_uri": "https://localhost:8080/"
        },
        "id": "XeAs7bPg1KpZ",
        "outputId": "2a3a078b-9f32-4cb0-d93f-b67861bfa2a4"
      },
      "source": [
        "!python face_colorization.py"
      ],
      "execution_count": null,
      "outputs": [
        {
          "output_type": "stream",
          "text": [
            "0 examples/grays/微信图片_20210823132421.jpg\n"
          ],
          "name": "stdout"
        }
      ]
    },
    {
      "cell_type": "markdown",
      "metadata": {
        "id": "JektxA_WulZw"
      },
      "source": [
        "# 删除原有outs/imgs文件夹(同时并重新创建原有文件夹)"
      ]
    },
    {
      "cell_type": "code",
      "metadata": {
        "id": "M8lOV5Hjuqoj"
      },
      "source": [
        "!rm -rf /content/drive/MyDrive/GPEN/examples/outs #outs\n",
        "!mkdir /content/drive/MyDrive/GPEN/examples/outs"
      ],
      "execution_count": null,
      "outputs": []
    },
    {
      "cell_type": "code",
      "metadata": {
        "id": "P0mbwzSQvCBy"
      },
      "source": [
        "!rm -rf /content/drive/MyDrive/GPEN/examples/imgs #imgs\n",
        "!mkdir /content/drive/MyDrive/GPEN/examples/imgs"
      ],
      "execution_count": null,
      "outputs": []
    },
    {
      "cell_type": "markdown",
      "metadata": {
        "id": "01OZTdkZpXGq"
      },
      "source": [
        "# 上传解压aligned文件"
      ]
    },
    {
      "cell_type": "code",
      "metadata": {
        "colab": {
          "base_uri": "https://localhost:8080/",
          "height": 35
        },
        "id": "feiiN5-5__ch",
        "outputId": "05c7b3b6-3bc9-4901-e6c2-61adda37c5ed"
      },
      "source": [
        "%pwd"
      ],
      "execution_count": null,
      "outputs": [
        {
          "output_type": "execute_result",
          "data": {
            "application/vnd.google.colaboratory.intrinsic+json": {
              "type": "string"
            },
            "text/plain": [
              "'/content/drive/MyDrive/GPEN'"
            ]
          },
          "metadata": {},
          "execution_count": 48
        }
      ]
    },
    {
      "cell_type": "code",
      "metadata": {
        "id": "i2lU_r3jpZ-B"
      },
      "source": [
        "# !unzip -d /content/drive/MyDrive/GPEN/examples/imgs ali.zip\n",
        "!7z x ali.zip -r -o/content/drive/MyDrive/GPEN/examples/imgs"
      ],
      "execution_count": null,
      "outputs": []
    },
    {
      "cell_type": "code",
      "metadata": {
        "id": "evrXt8bXKEMQ"
      },
      "source": [
        "mv /content/drive/MyDrive/GPEN/examples/imgs/ali/* /content/drive/MyDrive/GPEN/examples/imgs"
      ],
      "execution_count": null,
      "outputs": []
    },
    {
      "cell_type": "markdown",
      "metadata": {
        "id": "WDCm7xJee4c2"
      },
      "source": [
        "\n",
        "\n",
        "# Download multiple images all at once"
      ]
    },
    {
      "cell_type": "markdown",
      "metadata": {
        "id": "6zC7BIgHe-Z2"
      },
      "source": [
        "download on outs"
      ]
    },
    {
      "cell_type": "code",
      "metadata": {
        "id": "4tAqGLPpe0Ez"
      },
      "source": [
        "!zip -r /content/drive/MyDrive/GPEN/examples/outs.zip /content/drive/MyDrive/GPEN/examples/outs\n"
      ],
      "execution_count": null,
      "outputs": []
    },
    {
      "cell_type": "markdown",
      "metadata": {
        "id": "0W7jMJlqfD2R"
      },
      "source": [
        "download on couts"
      ]
    },
    {
      "cell_type": "code",
      "metadata": {
        "id": "B3-JMXM3e0wT"
      },
      "source": [
        "!zip -r /content/drive/MyDrive/GPEN/examples/couts.zip /content/drive/MyDrive/GPEN/examples/couts"
      ],
      "execution_count": null,
      "outputs": []
    }
  ]
}